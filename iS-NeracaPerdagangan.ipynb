{
 "cells": [
  {
   "cell_type": "markdown",
   "metadata": {},
   "source": [
    "# Neraca Perdagangan Negara"
   ]
  },
  {
   "cell_type": "markdown",
   "metadata": {},
   "source": [
    "Sumber: UN: Monthly Bulletin of Statistics (untuk data tahun 2010-2014 Issue No. 1125. Vol. LXIX. No. 3 March 2015)"
   ]
  },
  {
   "cell_type": "markdown",
   "metadata": {},
   "source": [
    "Data Dikutip dari Statistik Indonesia <br>dataset : <a href='https://data.go.id/dataset/bps_api_0000336'>data.go.id</a>"
   ]
  },
  {
   "cell_type": "markdown",
   "metadata": {},
   "source": [
    "> Pastikan url `dataset`"
   ]
  },
  {
   "cell_type": "code",
   "execution_count": 1,
   "metadata": {},
   "outputs": [
    {
     "data": {
      "text/html": [
       "<div>\n",
       "<style scoped>\n",
       "    .dataframe tbody tr th:only-of-type {\n",
       "        vertical-align: middle;\n",
       "    }\n",
       "\n",
       "    .dataframe tbody tr th {\n",
       "        vertical-align: top;\n",
       "    }\n",
       "\n",
       "    .dataframe thead th {\n",
       "        text-align: right;\n",
       "    }\n",
       "</style>\n",
       "<table border=\"1\" class=\"dataframe\">\n",
       "  <thead>\n",
       "    <tr style=\"text-align: right;\">\n",
       "      <th></th>\n",
       "      <th>_id</th>\n",
       "      <th>idx</th>\n",
       "      <th>vervar</th>\n",
       "      <th>var</th>\n",
       "      <th>turvar</th>\n",
       "      <th>tahun</th>\n",
       "      <th>turtahun</th>\n",
       "      <th>nilai</th>\n",
       "    </tr>\n",
       "  </thead>\n",
       "  <tbody>\n",
       "    <tr>\n",
       "      <th>0</th>\n",
       "      <td>1</td>\n",
       "      <td>0</td>\n",
       "      <td>Amerika Serikat</td>\n",
       "      <td>Neraca Perdagangan beberapa Negara</td>\n",
       "      <td>Ekspor</td>\n",
       "      <td>2000</td>\n",
       "      <td>NaN</td>\n",
       "      <td>781125.0</td>\n",
       "    </tr>\n",
       "    <tr>\n",
       "      <th>1</th>\n",
       "      <td>2</td>\n",
       "      <td>1</td>\n",
       "      <td>Amerika Serikat</td>\n",
       "      <td>Neraca Perdagangan beberapa Negara</td>\n",
       "      <td>Ekspor</td>\n",
       "      <td>2001</td>\n",
       "      <td>NaN</td>\n",
       "      <td>729100.0</td>\n",
       "    </tr>\n",
       "    <tr>\n",
       "      <th>2</th>\n",
       "      <td>3</td>\n",
       "      <td>2</td>\n",
       "      <td>Amerika Serikat</td>\n",
       "      <td>Neraca Perdagangan beberapa Negara</td>\n",
       "      <td>Ekspor</td>\n",
       "      <td>2002</td>\n",
       "      <td>NaN</td>\n",
       "      <td>693103.0</td>\n",
       "    </tr>\n",
       "    <tr>\n",
       "      <th>3</th>\n",
       "      <td>4</td>\n",
       "      <td>3</td>\n",
       "      <td>Amerika Serikat</td>\n",
       "      <td>Neraca Perdagangan beberapa Negara</td>\n",
       "      <td>Ekspor</td>\n",
       "      <td>2003</td>\n",
       "      <td>NaN</td>\n",
       "      <td>724771.0</td>\n",
       "    </tr>\n",
       "    <tr>\n",
       "      <th>4</th>\n",
       "      <td>5</td>\n",
       "      <td>4</td>\n",
       "      <td>Amerika Serikat</td>\n",
       "      <td>Neraca Perdagangan beberapa Negara</td>\n",
       "      <td>Ekspor</td>\n",
       "      <td>2004</td>\n",
       "      <td>NaN</td>\n",
       "      <td>818520.0</td>\n",
       "    </tr>\n",
       "  </tbody>\n",
       "</table>\n",
       "</div>"
      ],
      "text/plain": [
       "   _id  idx           vervar                                 var  turvar  \\\n",
       "0    1    0  Amerika Serikat  Neraca Perdagangan beberapa Negara  Ekspor   \n",
       "1    2    1  Amerika Serikat  Neraca Perdagangan beberapa Negara  Ekspor   \n",
       "2    3    2  Amerika Serikat  Neraca Perdagangan beberapa Negara  Ekspor   \n",
       "3    4    3  Amerika Serikat  Neraca Perdagangan beberapa Negara  Ekspor   \n",
       "4    5    4  Amerika Serikat  Neraca Perdagangan beberapa Negara  Ekspor   \n",
       "\n",
       "   tahun  turtahun     nilai  \n",
       "0   2000       NaN  781125.0  \n",
       "1   2001       NaN  729100.0  \n",
       "2   2002       NaN  693103.0  \n",
       "3   2003       NaN  724771.0  \n",
       "4   2004       NaN  818520.0  "
      ]
     },
     "execution_count": 1,
     "metadata": {},
     "output_type": "execute_result"
    }
   ],
   "source": [
    "import pandas as pd\n",
    "\n",
    "df = pd.read_csv('tes/Neraca Perdagangan.csv')\n",
    "df.head()"
   ]
  },
  {
   "cell_type": "code",
   "execution_count": 2,
   "metadata": {},
   "outputs": [
    {
     "data": {
      "text/plain": [
       "Index(['_id', 'idx', 'vervar', 'var', 'turvar', 'tahun', 'turtahun', 'nilai'], dtype='object')"
      ]
     },
     "execution_count": 2,
     "metadata": {},
     "output_type": "execute_result"
    }
   ],
   "source": [
    "df.columns"
   ]
  },
  {
   "cell_type": "markdown",
   "metadata": {},
   "source": [
    "> Kita akan menghilangkan beberapa kolom yang tidak diperlukan dan manipulasi nama kolom sehingga bisa dibaca dengan baik"
   ]
  },
  {
   "cell_type": "code",
   "execution_count": 3,
   "metadata": {},
   "outputs": [
    {
     "data": {
      "text/html": [
       "<div>\n",
       "<style scoped>\n",
       "    .dataframe tbody tr th:only-of-type {\n",
       "        vertical-align: middle;\n",
       "    }\n",
       "\n",
       "    .dataframe tbody tr th {\n",
       "        vertical-align: top;\n",
       "    }\n",
       "\n",
       "    .dataframe thead th {\n",
       "        text-align: right;\n",
       "    }\n",
       "</style>\n",
       "<table border=\"1\" class=\"dataframe\">\n",
       "  <thead>\n",
       "    <tr style=\"text-align: right;\">\n",
       "      <th></th>\n",
       "      <th>id</th>\n",
       "      <th>negara</th>\n",
       "      <th>var</th>\n",
       "      <th>tahun</th>\n",
       "      <th>nilai</th>\n",
       "    </tr>\n",
       "  </thead>\n",
       "  <tbody>\n",
       "    <tr>\n",
       "      <th>0</th>\n",
       "      <td>1</td>\n",
       "      <td>Amerika Serikat</td>\n",
       "      <td>Ekspor</td>\n",
       "      <td>2000</td>\n",
       "      <td>781125.0</td>\n",
       "    </tr>\n",
       "    <tr>\n",
       "      <th>1</th>\n",
       "      <td>2</td>\n",
       "      <td>Amerika Serikat</td>\n",
       "      <td>Ekspor</td>\n",
       "      <td>2001</td>\n",
       "      <td>729100.0</td>\n",
       "    </tr>\n",
       "    <tr>\n",
       "      <th>2</th>\n",
       "      <td>3</td>\n",
       "      <td>Amerika Serikat</td>\n",
       "      <td>Ekspor</td>\n",
       "      <td>2002</td>\n",
       "      <td>693103.0</td>\n",
       "    </tr>\n",
       "    <tr>\n",
       "      <th>3</th>\n",
       "      <td>4</td>\n",
       "      <td>Amerika Serikat</td>\n",
       "      <td>Ekspor</td>\n",
       "      <td>2003</td>\n",
       "      <td>724771.0</td>\n",
       "    </tr>\n",
       "    <tr>\n",
       "      <th>4</th>\n",
       "      <td>5</td>\n",
       "      <td>Amerika Serikat</td>\n",
       "      <td>Ekspor</td>\n",
       "      <td>2004</td>\n",
       "      <td>818520.0</td>\n",
       "    </tr>\n",
       "  </tbody>\n",
       "</table>\n",
       "</div>"
      ],
      "text/plain": [
       "   id           negara     var  tahun     nilai\n",
       "0   1  Amerika Serikat  Ekspor   2000  781125.0\n",
       "1   2  Amerika Serikat  Ekspor   2001  729100.0\n",
       "2   3  Amerika Serikat  Ekspor   2002  693103.0\n",
       "3   4  Amerika Serikat  Ekspor   2003  724771.0\n",
       "4   5  Amerika Serikat  Ekspor   2004  818520.0"
      ]
     },
     "execution_count": 3,
     "metadata": {},
     "output_type": "execute_result"
    }
   ],
   "source": [
    "data = df.drop(['idx','var','turtahun'],axis=1)\n",
    "df_new = data.rename(columns={'_id':'id','vervar':'negara','turvar':'var'})\n",
    "df_new.head()"
   ]
  },
  {
   "cell_type": "markdown",
   "metadata": {},
   "source": [
    "### Deskripsi data"
   ]
  },
  {
   "cell_type": "code",
   "execution_count": 4,
   "metadata": {},
   "outputs": [
    {
     "name": "stdout",
     "output_type": "stream",
     "text": [
      "                id        tahun         nilai\n",
      "count  1710.000000  1710.000000  1.447000e+03\n",
      "mean    855.500000  2007.000000  1.696415e+06\n",
      "std     493.778797     4.321758  3.987565e+07\n",
      "min       1.000000  2000.000000  1.430000e+02\n",
      "25%     428.250000  2003.000000  2.494800e+04\n",
      "50%     855.500000  2007.000000  8.540700e+04\n",
      "75%    1282.750000  2011.000000  2.728915e+05\n",
      "max    1710.000000  2014.000000  1.073164e+09\n"
     ]
    }
   ],
   "source": [
    "print(df_new.describe())"
   ]
  },
  {
   "cell_type": "markdown",
   "metadata": {},
   "source": [
    "> Dalam data ini terdapat kolom nilai yang kosong atau berisi (-). Kita akan mengganti nilai yang (-) dengan NaN <br>\n",
    "> Mengecek apakah ada data yang Null, NaN atau Empty"
   ]
  },
  {
   "cell_type": "code",
   "execution_count": 5,
   "metadata": {},
   "outputs": [
    {
     "data": {
      "text/plain": [
       "id          0\n",
       "negara      0\n",
       "var         0\n",
       "tahun       0\n",
       "nilai     263\n",
       "dtype: int64"
      ]
     },
     "execution_count": 5,
     "metadata": {},
     "output_type": "execute_result"
    }
   ],
   "source": [
    "df_new.isnull().sum()"
   ]
  },
  {
   "cell_type": "markdown",
   "metadata": {},
   "source": [
    "> Menghilangkan data yang kosong atau Null"
   ]
  },
  {
   "cell_type": "code",
   "execution_count": 6,
   "metadata": {},
   "outputs": [],
   "source": [
    "df_fix = df_new.dropna()"
   ]
  },
  {
   "cell_type": "code",
   "execution_count": 7,
   "metadata": {},
   "outputs": [
    {
     "data": {
      "text/plain": [
       "id        0\n",
       "negara    0\n",
       "var       0\n",
       "tahun     0\n",
       "nilai     0\n",
       "dtype: int64"
      ]
     },
     "execution_count": 7,
     "metadata": {},
     "output_type": "execute_result"
    }
   ],
   "source": [
    "df_fix.isnull().sum()"
   ]
  },
  {
   "cell_type": "markdown",
   "metadata": {},
   "source": [
    "> Menampilkan Neraca Perdagangan Indonesia"
   ]
  },
  {
   "cell_type": "code",
   "execution_count": 12,
   "metadata": {},
   "outputs": [
    {
     "data": {
      "text/html": [
       "<div>\n",
       "<style scoped>\n",
       "    .dataframe tbody tr th:only-of-type {\n",
       "        vertical-align: middle;\n",
       "    }\n",
       "\n",
       "    .dataframe tbody tr th {\n",
       "        vertical-align: top;\n",
       "    }\n",
       "\n",
       "    .dataframe thead th {\n",
       "        text-align: right;\n",
       "    }\n",
       "</style>\n",
       "<table border=\"1\" class=\"dataframe\">\n",
       "  <thead>\n",
       "    <tr style=\"text-align: right;\">\n",
       "      <th></th>\n",
       "      <th>id</th>\n",
       "      <th>negara</th>\n",
       "      <th>var</th>\n",
       "      <th>tahun</th>\n",
       "      <th>nilai</th>\n",
       "    </tr>\n",
       "  </thead>\n",
       "  <tbody>\n",
       "    <tr>\n",
       "      <th>630</th>\n",
       "      <td>631</td>\n",
       "      <td>Indonesia</td>\n",
       "      <td>Ekspor</td>\n",
       "      <td>2000</td>\n",
       "      <td>62124.0</td>\n",
       "    </tr>\n",
       "    <tr>\n",
       "      <th>631</th>\n",
       "      <td>632</td>\n",
       "      <td>Indonesia</td>\n",
       "      <td>Ekspor</td>\n",
       "      <td>2001</td>\n",
       "      <td>56321.0</td>\n",
       "    </tr>\n",
       "    <tr>\n",
       "      <th>632</th>\n",
       "      <td>633</td>\n",
       "      <td>Indonesia</td>\n",
       "      <td>Ekspor</td>\n",
       "      <td>2002</td>\n",
       "      <td>57159.0</td>\n",
       "    </tr>\n",
       "    <tr>\n",
       "      <th>633</th>\n",
       "      <td>634</td>\n",
       "      <td>Indonesia</td>\n",
       "      <td>Ekspor</td>\n",
       "      <td>2003</td>\n",
       "      <td>61058.0</td>\n",
       "    </tr>\n",
       "    <tr>\n",
       "      <th>634</th>\n",
       "      <td>635</td>\n",
       "      <td>Indonesia</td>\n",
       "      <td>Ekspor</td>\n",
       "      <td>2004</td>\n",
       "      <td>71585.0</td>\n",
       "    </tr>\n",
       "  </tbody>\n",
       "</table>\n",
       "</div>"
      ],
      "text/plain": [
       "      id     negara     var  tahun    nilai\n",
       "630  631  Indonesia  Ekspor   2000  62124.0\n",
       "631  632  Indonesia  Ekspor   2001  56321.0\n",
       "632  633  Indonesia  Ekspor   2002  57159.0\n",
       "633  634  Indonesia  Ekspor   2003  61058.0\n",
       "634  635  Indonesia  Ekspor   2004  71585.0"
      ]
     },
     "execution_count": 12,
     "metadata": {},
     "output_type": "execute_result"
    }
   ],
   "source": [
    "indonesia = df_fix[df_fix.negara == 'Indonesia']\n",
    "indonesia.head()"
   ]
  },
  {
   "cell_type": "markdown",
   "metadata": {},
   "source": [
    "> Membuat dan menampilkan grup Ekspor, Impor dan Neraca Perdagangan Indonesia berdasarkan tahun"
   ]
  },
  {
   "cell_type": "code",
   "execution_count": 14,
   "metadata": {},
   "outputs": [
    {
     "data": {
      "text/html": [
       "<div>\n",
       "<style scoped>\n",
       "    .dataframe tbody tr th:only-of-type {\n",
       "        vertical-align: middle;\n",
       "    }\n",
       "\n",
       "    .dataframe tbody tr th {\n",
       "        vertical-align: top;\n",
       "    }\n",
       "\n",
       "    .dataframe thead th {\n",
       "        text-align: right;\n",
       "    }\n",
       "</style>\n",
       "<table border=\"1\" class=\"dataframe\">\n",
       "  <thead>\n",
       "    <tr style=\"text-align: right;\">\n",
       "      <th></th>\n",
       "      <th></th>\n",
       "      <th></th>\n",
       "      <th></th>\n",
       "      <th></th>\n",
       "    </tr>\n",
       "    <tr>\n",
       "      <th>tahun</th>\n",
       "      <th>var</th>\n",
       "      <th>nilai</th>\n",
       "      <th>negara</th>\n",
       "      <th>id</th>\n",
       "    </tr>\n",
       "  </thead>\n",
       "  <tbody>\n",
       "    <tr>\n",
       "      <th rowspan=\"3\" valign=\"top\">2000</th>\n",
       "      <th>Ekspor</th>\n",
       "      <th>62124.0</th>\n",
       "      <th>Indonesia</th>\n",
       "      <th>631</th>\n",
       "    </tr>\n",
       "    <tr>\n",
       "      <th>Impor</th>\n",
       "      <th>33515.0</th>\n",
       "      <th>Indonesia</th>\n",
       "      <th>646</th>\n",
       "    </tr>\n",
       "    <tr>\n",
       "      <th>Neraca Perdagangan</th>\n",
       "      <th>28609.0</th>\n",
       "      <th>Indonesia</th>\n",
       "      <th>661</th>\n",
       "    </tr>\n",
       "    <tr>\n",
       "      <th rowspan=\"3\" valign=\"top\">2001</th>\n",
       "      <th>Ekspor</th>\n",
       "      <th>56321.0</th>\n",
       "      <th>Indonesia</th>\n",
       "      <th>632</th>\n",
       "    </tr>\n",
       "    <tr>\n",
       "      <th>Impor</th>\n",
       "      <th>30962.0</th>\n",
       "      <th>Indonesia</th>\n",
       "      <th>647</th>\n",
       "    </tr>\n",
       "    <tr>\n",
       "      <th>Neraca Perdagangan</th>\n",
       "      <th>25359.0</th>\n",
       "      <th>Indonesia</th>\n",
       "      <th>662</th>\n",
       "    </tr>\n",
       "    <tr>\n",
       "      <th rowspan=\"3\" valign=\"top\">2002</th>\n",
       "      <th>Ekspor</th>\n",
       "      <th>57159.0</th>\n",
       "      <th>Indonesia</th>\n",
       "      <th>633</th>\n",
       "    </tr>\n",
       "    <tr>\n",
       "      <th>Impor</th>\n",
       "      <th>31289.0</th>\n",
       "      <th>Indonesia</th>\n",
       "      <th>648</th>\n",
       "    </tr>\n",
       "    <tr>\n",
       "      <th>Neraca Perdagangan</th>\n",
       "      <th>25870.0</th>\n",
       "      <th>Indonesia</th>\n",
       "      <th>663</th>\n",
       "    </tr>\n",
       "    <tr>\n",
       "      <th rowspan=\"3\" valign=\"top\">2003</th>\n",
       "      <th>Ekspor</th>\n",
       "      <th>61058.0</th>\n",
       "      <th>Indonesia</th>\n",
       "      <th>634</th>\n",
       "    </tr>\n",
       "    <tr>\n",
       "      <th>Impor</th>\n",
       "      <th>32551.0</th>\n",
       "      <th>Indonesia</th>\n",
       "      <th>649</th>\n",
       "    </tr>\n",
       "    <tr>\n",
       "      <th>Neraca Perdagangan</th>\n",
       "      <th>28507.0</th>\n",
       "      <th>Indonesia</th>\n",
       "      <th>664</th>\n",
       "    </tr>\n",
       "    <tr>\n",
       "      <th rowspan=\"3\" valign=\"top\">2004</th>\n",
       "      <th>Ekspor</th>\n",
       "      <th>71585.0</th>\n",
       "      <th>Indonesia</th>\n",
       "      <th>635</th>\n",
       "    </tr>\n",
       "    <tr>\n",
       "      <th>Impor</th>\n",
       "      <th>46525.0</th>\n",
       "      <th>Indonesia</th>\n",
       "      <th>650</th>\n",
       "    </tr>\n",
       "    <tr>\n",
       "      <th>Neraca Perdagangan</th>\n",
       "      <th>25060.0</th>\n",
       "      <th>Indonesia</th>\n",
       "      <th>665</th>\n",
       "    </tr>\n",
       "    <tr>\n",
       "      <th rowspan=\"3\" valign=\"top\">2005</th>\n",
       "      <th>Ekspor</th>\n",
       "      <th>85660.0</th>\n",
       "      <th>Indonesia</th>\n",
       "      <th>636</th>\n",
       "    </tr>\n",
       "    <tr>\n",
       "      <th>Impor</th>\n",
       "      <th>57701.0</th>\n",
       "      <th>Indonesia</th>\n",
       "      <th>651</th>\n",
       "    </tr>\n",
       "    <tr>\n",
       "      <th>Neraca Perdagangan</th>\n",
       "      <th>27959.0</th>\n",
       "      <th>Indonesia</th>\n",
       "      <th>666</th>\n",
       "    </tr>\n",
       "    <tr>\n",
       "      <th rowspan=\"3\" valign=\"top\">2006</th>\n",
       "      <th>Ekspor</th>\n",
       "      <th>100799.0</th>\n",
       "      <th>Indonesia</th>\n",
       "      <th>637</th>\n",
       "    </tr>\n",
       "    <tr>\n",
       "      <th>Impor</th>\n",
       "      <th>61066.0</th>\n",
       "      <th>Indonesia</th>\n",
       "      <th>652</th>\n",
       "    </tr>\n",
       "    <tr>\n",
       "      <th>Neraca Perdagangan</th>\n",
       "      <th>39733.0</th>\n",
       "      <th>Indonesia</th>\n",
       "      <th>667</th>\n",
       "    </tr>\n",
       "    <tr>\n",
       "      <th rowspan=\"3\" valign=\"top\">2007</th>\n",
       "      <th>Ekspor</th>\n",
       "      <th>114101.0</th>\n",
       "      <th>Indonesia</th>\n",
       "      <th>638</th>\n",
       "    </tr>\n",
       "    <tr>\n",
       "      <th>Impor</th>\n",
       "      <th>74473.0</th>\n",
       "      <th>Indonesia</th>\n",
       "      <th>653</th>\n",
       "    </tr>\n",
       "    <tr>\n",
       "      <th>Neraca Perdagangan</th>\n",
       "      <th>39628.0</th>\n",
       "      <th>Indonesia</th>\n",
       "      <th>668</th>\n",
       "    </tr>\n",
       "    <tr>\n",
       "      <th rowspan=\"3\" valign=\"top\">2008</th>\n",
       "      <th>Ekspor</th>\n",
       "      <th>137020.0</th>\n",
       "      <th>Indonesia</th>\n",
       "      <th>639</th>\n",
       "    </tr>\n",
       "    <tr>\n",
       "      <th>Impor</th>\n",
       "      <th>129197.0</th>\n",
       "      <th>Indonesia</th>\n",
       "      <th>654</th>\n",
       "    </tr>\n",
       "    <tr>\n",
       "      <th>Neraca Perdagangan</th>\n",
       "      <th>7823.0</th>\n",
       "      <th>Indonesia</th>\n",
       "      <th>669</th>\n",
       "    </tr>\n",
       "    <tr>\n",
       "      <th rowspan=\"3\" valign=\"top\">2009</th>\n",
       "      <th>Ekspor</th>\n",
       "      <th>116510.0</th>\n",
       "      <th>Indonesia</th>\n",
       "      <th>640</th>\n",
       "    </tr>\n",
       "    <tr>\n",
       "      <th>Impor</th>\n",
       "      <th>96829.0</th>\n",
       "      <th>Indonesia</th>\n",
       "      <th>655</th>\n",
       "    </tr>\n",
       "    <tr>\n",
       "      <th>Neraca Perdagangan</th>\n",
       "      <th>19681.0</th>\n",
       "      <th>Indonesia</th>\n",
       "      <th>670</th>\n",
       "    </tr>\n",
       "    <tr>\n",
       "      <th rowspan=\"3\" valign=\"top\">2010</th>\n",
       "      <th>Ekspor</th>\n",
       "      <th>157779.0</th>\n",
       "      <th>Indonesia</th>\n",
       "      <th>641</th>\n",
       "    </tr>\n",
       "    <tr>\n",
       "      <th>Impor</th>\n",
       "      <th>135663.0</th>\n",
       "      <th>Indonesia</th>\n",
       "      <th>656</th>\n",
       "    </tr>\n",
       "    <tr>\n",
       "      <th>Neraca Perdagangan</th>\n",
       "      <th>22116.0</th>\n",
       "      <th>Indonesia</th>\n",
       "      <th>671</th>\n",
       "    </tr>\n",
       "    <tr>\n",
       "      <th rowspan=\"3\" valign=\"top\">2011</th>\n",
       "      <th>Ekspor</th>\n",
       "      <th>203497.0</th>\n",
       "      <th>Indonesia</th>\n",
       "      <th>642</th>\n",
       "    </tr>\n",
       "    <tr>\n",
       "      <th>Impor</th>\n",
       "      <th>177436.0</th>\n",
       "      <th>Indonesia</th>\n",
       "      <th>657</th>\n",
       "    </tr>\n",
       "    <tr>\n",
       "      <th>Neraca Perdagangan</th>\n",
       "      <th>26061.0</th>\n",
       "      <th>Indonesia</th>\n",
       "      <th>672</th>\n",
       "    </tr>\n",
       "    <tr>\n",
       "      <th rowspan=\"3\" valign=\"top\">2012</th>\n",
       "      <th>Ekspor</th>\n",
       "      <th>190020.0</th>\n",
       "      <th>Indonesia</th>\n",
       "      <th>643</th>\n",
       "    </tr>\n",
       "    <tr>\n",
       "      <th>Impor</th>\n",
       "      <th>191690.0</th>\n",
       "      <th>Indonesia</th>\n",
       "      <th>658</th>\n",
       "    </tr>\n",
       "    <tr>\n",
       "      <th>Neraca Perdagangan</th>\n",
       "      <th>1669.0</th>\n",
       "      <th>Indonesia</th>\n",
       "      <th>673</th>\n",
       "    </tr>\n",
       "    <tr>\n",
       "      <th rowspan=\"3\" valign=\"top\">2013</th>\n",
       "      <th>Ekspor</th>\n",
       "      <th>182552.0</th>\n",
       "      <th>Indonesia</th>\n",
       "      <th>644</th>\n",
       "    </tr>\n",
       "    <tr>\n",
       "      <th>Impor</th>\n",
       "      <th>186629.0</th>\n",
       "      <th>Indonesia</th>\n",
       "      <th>659</th>\n",
       "    </tr>\n",
       "    <tr>\n",
       "      <th>Neraca Perdagangan</th>\n",
       "      <th>4077.0</th>\n",
       "      <th>Indonesia</th>\n",
       "      <th>674</th>\n",
       "    </tr>\n",
       "    <tr>\n",
       "      <th rowspan=\"3\" valign=\"top\">2014</th>\n",
       "      <th>Ekspor</th>\n",
       "      <th>176293.0</th>\n",
       "      <th>Indonesia</th>\n",
       "      <th>645</th>\n",
       "    </tr>\n",
       "    <tr>\n",
       "      <th>Impor</th>\n",
       "      <th>178179.0</th>\n",
       "      <th>Indonesia</th>\n",
       "      <th>660</th>\n",
       "    </tr>\n",
       "    <tr>\n",
       "      <th>Neraca Perdagangan</th>\n",
       "      <th>1886.0</th>\n",
       "      <th>Indonesia</th>\n",
       "      <th>675</th>\n",
       "    </tr>\n",
       "  </tbody>\n",
       "</table>\n",
       "</div>"
      ],
      "text/plain": [
       "Empty DataFrame\n",
       "Columns: []\n",
       "Index: [(2000, Ekspor, 62124.0, Indonesia, 631), (2000, Impor, 33515.0, Indonesia, 646), (2000, Neraca Perdagangan, 28609.0, Indonesia, 661), (2001, Ekspor, 56321.0, Indonesia, 632), (2001, Impor, 30962.0, Indonesia, 647), (2001, Neraca Perdagangan, 25359.0, Indonesia, 662), (2002, Ekspor, 57159.0, Indonesia, 633), (2002, Impor, 31289.0, Indonesia, 648), (2002, Neraca Perdagangan, 25870.0, Indonesia, 663), (2003, Ekspor, 61058.0, Indonesia, 634), (2003, Impor, 32551.0, Indonesia, 649), (2003, Neraca Perdagangan, 28507.0, Indonesia, 664), (2004, Ekspor, 71585.0, Indonesia, 635), (2004, Impor, 46525.0, Indonesia, 650), (2004, Neraca Perdagangan, 25060.0, Indonesia, 665), (2005, Ekspor, 85660.0, Indonesia, 636), (2005, Impor, 57701.0, Indonesia, 651), (2005, Neraca Perdagangan, 27959.0, Indonesia, 666), (2006, Ekspor, 100799.0, Indonesia, 637), (2006, Impor, 61066.0, Indonesia, 652), (2006, Neraca Perdagangan, 39733.0, Indonesia, 667), (2007, Ekspor, 114101.0, Indonesia, 638), (2007, Impor, 74473.0, Indonesia, 653), (2007, Neraca Perdagangan, 39628.0, Indonesia, 668), (2008, Ekspor, 137020.0, Indonesia, 639), (2008, Impor, 129197.0, Indonesia, 654), (2008, Neraca Perdagangan, 7823.0, Indonesia, 669), (2009, Ekspor, 116510.0, Indonesia, 640), (2009, Impor, 96829.0, Indonesia, 655), (2009, Neraca Perdagangan, 19681.0, Indonesia, 670), (2010, Ekspor, 157779.0, Indonesia, 641), (2010, Impor, 135663.0, Indonesia, 656), (2010, Neraca Perdagangan, 22116.0, Indonesia, 671), (2011, Ekspor, 203497.0, Indonesia, 642), (2011, Impor, 177436.0, Indonesia, 657), (2011, Neraca Perdagangan, 26061.0, Indonesia, 672), (2012, Ekspor, 190020.0, Indonesia, 643), (2012, Impor, 191690.0, Indonesia, 658), (2012, Neraca Perdagangan, 1669.0, Indonesia, 673), (2013, Ekspor, 182552.0, Indonesia, 644), (2013, Impor, 186629.0, Indonesia, 659), (2013, Neraca Perdagangan, 4077.0, Indonesia, 674), (2014, Ekspor, 176293.0, Indonesia, 645), (2014, Impor, 178179.0, Indonesia, 660), (2014, Neraca Perdagangan, 1886.0, Indonesia, 675)]"
      ]
     },
     "execution_count": 14,
     "metadata": {},
     "output_type": "execute_result"
    }
   ],
   "source": [
    "ab = indonesia.groupby(['tahun','var','nilai','negara','id']).count()\n",
    "ab"
   ]
  },
  {
   "cell_type": "code",
   "execution_count": 15,
   "metadata": {},
   "outputs": [],
   "source": [
    "impor = indonesia[indonesia[\"var\"] == \"Impor\"]\n",
    "ekspor = indonesia[indonesia[\"var\"] == \"Ekspor\"]\n",
    "neraca = indonesia[indonesia[\"var\"] == \"Neraca Perdagangan\"]"
   ]
  },
  {
   "cell_type": "markdown",
   "metadata": {},
   "source": [
    "> `Plot bar` "
   ]
  },
  {
   "cell_type": "code",
   "execution_count": 26,
   "metadata": {},
   "outputs": [
    {
     "data": {
      "image/png": "[encoded data removed]",
      "text/plain": [
       "<Figure size 432x288 with 1 Axes>"
      ]
     },
     "metadata": {
      "needs_background": "light"
     },
     "output_type": "display_data"
    }
   ],
   "source": [
    "import matplotlib.pyplot as plt\n",
    "import numpy as np\n",
    "\n",
    "imx = impor['tahun']\n",
    "imy = impor['nilai']\n",
    "eksx = ekspor['tahun']\n",
    "eksy = ekspor['nilai']\n",
    "nerax = neraca['tahun']\n",
    "neray = neraca['nilai']\n",
    "\n",
    "fig, ax = plt.subplots()\n",
    "ax.bar(imx,imy, label='Impor')\n",
    "ax.bar(eksx,eksy, label='Ekspor')\n",
    "ax.bar(nerax,neray, label='Neraca Perdagangan')\n",
    "\n",
    "legend = ax.legend(loc='best', shadow=False, fontsize='medium')\n",
    "legend.get_frame() #.set_facecolor('C0')\n",
    "plt.show()"
   ]
  },
  {
   "cell_type": "markdown",
   "metadata": {},
   "source": [
    "### Neraca Perdagangan Indonesia"
   ]
  },
  {
   "cell_type": "markdown",
   "metadata": {},
   "source": [
    "> Plot Neraca Perdagangan"
   ]
  },
  {
   "cell_type": "code",
   "execution_count": 18,
   "metadata": {},
   "outputs": [
    {
     "data": {
      "image/png": "[encoded data removed]",
      "text/plain": [
       "<Figure size 432x288 with 1 Axes>"
      ]
     },
     "metadata": {
      "needs_background": "light"
     },
     "output_type": "display_data"
    }
   ],
   "source": [
    "fig, ax = plt.subplots()\n",
    "ax.bar(nerax,neray, label='Neraca Perdagangan',color='green')\n",
    "\n",
    "legend = ax.legend(loc='best', shadow=False, fontsize='medium')\n",
    "legend.get_frame() #.set_facecolor('C0')\n",
    "plt.title('Neraca Perdagangan')\n",
    "plt.show()"
   ]
  },
  {
   "cell_type": "markdown",
   "metadata": {},
   "source": [
    "### Impor dan Ekspor Indonesia"
   ]
  },
  {
   "cell_type": "markdown",
   "metadata": {},
   "source": [
    "> Plot Impor dan ekspor"
   ]
  },
  {
   "cell_type": "code",
   "execution_count": 30,
   "metadata": {},
   "outputs": [
    {
     "data": {
      "image/png": "[encoded data removed]",
      "text/plain": [
       "<Figure size 432x288 with 1 Axes>"
      ]
     },
     "metadata": {
      "needs_background": "light"
     },
     "output_type": "display_data"
    }
   ],
   "source": [
    "plt.plot(imx, imy, label='impor', color='blue',  linewidth='2')\n",
    "plt.plot(eksx, eksy, label='ekspor', color='red', linewidth='2')\n",
    "\n",
    "plt.legend()\n",
    "plt.title('Plot Neraca Perdagangan Indonesia')\n",
    "plt.show()"
   ]
  },
  {
   "cell_type": "code",
   "execution_count": 20,
   "metadata": {},
   "outputs": [
    {
     "data": {
      "text/plain": [
       "array([28609., 25359., 25870., 28507., 25060., 27959., 39733., 39628.,\n",
       "        7823., 19681., 22116., 26061., -1670., -4077., -1886.])"
      ]
     },
     "execution_count": 20,
     "metadata": {},
     "output_type": "execute_result"
    }
   ],
   "source": [
    "nc = np.array(ekspor['nilai']) - np.array(impor['nilai'])\n",
    "nc"
   ]
  },
  {
   "cell_type": "markdown",
   "metadata": {},
   "source": [
    "### Scatter Plot Impor Indonesia"
   ]
  },
  {
   "cell_type": "code",
   "execution_count": 22,
   "metadata": {},
   "outputs": [
    {
     "data": {
      "image/png": "[encoded data removed]",
      "text/plain": [
       "<Figure size 432x288 with 1 Axes>"
      ]
     },
     "metadata": {
      "needs_background": "light"
     },
     "output_type": "display_data"
    }
   ],
   "source": [
    "plt.scatter(impor['tahun'], impor['nilai'])\n",
    "plt.title('Scatter Plot Impor Indonesia')\n",
    "plt.show()"
   ]
  },
  {
   "cell_type": "markdown",
   "metadata": {},
   "source": [
    "### Scatter Plot Ekspor Indonesia"
   ]
  },
  {
   "cell_type": "code",
   "execution_count": 23,
   "metadata": {},
   "outputs": [
    {
     "data": {
      "image/png": "[encoded data removed]",
      "text/plain": [
       "<Figure size 432x288 with 1 Axes>"
      ]
     },
     "metadata": {
      "needs_background": "light"
     },
     "output_type": "display_data"
    }
   ],
   "source": [
    "plt.scatter(ekspor['tahun'], ekspor['nilai'])\n",
    "plt.title('Scatter Plot Ekspor Indonesia')\n",
    "plt.show() "
   ]
  },
  {
   "cell_type": "markdown",
   "metadata": {},
   "source": [
    "### Scatter Plot Neraca Perdagangan Indonesia"
   ]
  },
  {
   "cell_type": "code",
   "execution_count": 24,
   "metadata": {},
   "outputs": [
    {
     "data": {
      "image/png": "[encoded data removed]",
      "text/plain": [
       "<Figure size 432x288 with 1 Axes>"
      ]
     },
     "metadata": {
      "needs_background": "light"
     },
     "output_type": "display_data"
    }
   ],
   "source": [
    "plt.scatter(neraca['tahun'], neraca['nilai'])\n",
    "plt.title('Plot Neraca Perdagangan Indonesia')\n",
    "plt.show() "
   ]
  }
 ],
 "metadata": {
  "kernelspec": {
   "display_name": "Python 3",
   "language": "python",
   "name": "python3"
  },
  "language_info": {
   "codemirror_mode": {
    "name": "ipython",
    "version": 3
   },
   "file_extension": ".py",
   "mimetype": "text/x-python",
   "name": "python",
   "nbconvert_exporter": "python",
   "pygments_lexer": "ipython3",
   "version": "3.7.3"
  }
 },
 "nbformat": 4,
 "nbformat_minor": 2
}
